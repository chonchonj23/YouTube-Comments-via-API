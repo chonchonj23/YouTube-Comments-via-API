{
  "nbformat": 4,
  "nbformat_minor": 0,
  "metadata": {
    "colab": {
      "name": "Search Youtube Video ID in Python v3.ipynb",
      "provenance": [],
      "collapsed_sections": []
    },
    "kernelspec": {
      "name": "python3",
      "display_name": "Python 3"
    },
    "language_info": {
      "name": "python"
    }
  },
  "cells": [
    {
      "cell_type": "code",
      "source": [
        "# Youtube API reference\n",
        "https://developers.google.com/youtube/v3/docs/commentThreads/list\n",
        "https://developers.google.com/youtube/v3/docs/errors"
      ],
      "metadata": {
        "id": "0lzFq_igF2Xv"
      },
      "execution_count": null,
      "outputs": []
    },
    {
      "cell_type": "code",
      "source": [
        "!pip install emoji --upgrade"
      ],
      "metadata": {
        "colab": {
          "base_uri": "https://localhost:8080/"
        },
        "id": "ykCt1j1yFEJ2",
        "outputId": "b5fc1986-a1b0-488e-a4ab-de1caf2c5604"
      },
      "execution_count": 1,
      "outputs": [
        {
          "output_type": "stream",
          "name": "stdout",
          "text": [
            "Collecting emoji\n",
            "  Downloading emoji-1.6.1.tar.gz (170 kB)\n",
            "\u001b[?25l\r\u001b[K     |██                              | 10 kB 20.1 MB/s eta 0:00:01\r\u001b[K     |███▉                            | 20 kB 19.2 MB/s eta 0:00:01\r\u001b[K     |█████▉                          | 30 kB 15.2 MB/s eta 0:00:01\r\u001b[K     |███████▊                        | 40 kB 10.1 MB/s eta 0:00:01\r\u001b[K     |█████████▋                      | 51 kB 5.2 MB/s eta 0:00:01\r\u001b[K     |███████████▋                    | 61 kB 5.4 MB/s eta 0:00:01\r\u001b[K     |█████████████▌                  | 71 kB 5.7 MB/s eta 0:00:01\r\u001b[K     |███████████████▍                | 81 kB 6.4 MB/s eta 0:00:01\r\u001b[K     |█████████████████▍              | 92 kB 4.8 MB/s eta 0:00:01\r\u001b[K     |███████████████████▎            | 102 kB 5.2 MB/s eta 0:00:01\r\u001b[K     |█████████████████████▏          | 112 kB 5.2 MB/s eta 0:00:01\r\u001b[K     |███████████████████████▏        | 122 kB 5.2 MB/s eta 0:00:01\r\u001b[K     |█████████████████████████       | 133 kB 5.2 MB/s eta 0:00:01\r\u001b[K     |███████████████████████████     | 143 kB 5.2 MB/s eta 0:00:01\r\u001b[K     |█████████████████████████████   | 153 kB 5.2 MB/s eta 0:00:01\r\u001b[K     |██████████████████████████████▉ | 163 kB 5.2 MB/s eta 0:00:01\r\u001b[K     |████████████████████████████████| 170 kB 5.2 MB/s \n",
            "\u001b[?25hBuilding wheels for collected packages: emoji\n",
            "  Building wheel for emoji (setup.py) ... \u001b[?25l\u001b[?25hdone\n",
            "  Created wheel for emoji: filename=emoji-1.6.1-py3-none-any.whl size=169314 sha256=7580da2b34841f37b76f5d19350f1d3e2bd4e2db8c5a9448ac158646844b3097\n",
            "  Stored in directory: /root/.cache/pip/wheels/ea/5f/d3/03d313ddb3c2a1a427bb4690f1621eea60fe6f2a30cc95940f\n",
            "Successfully built emoji\n",
            "Installing collected packages: emoji\n",
            "Successfully installed emoji-1.6.1\n"
          ]
        }
      ]
    },
    {
      "cell_type": "code",
      "execution_count": 2,
      "metadata": {
        "id": "x302p5zCCQkU"
      },
      "outputs": [],
      "source": [
        "import urllib.request\n",
        "import re\n",
        "\n",
        "from googleapiclient.discovery import build\n",
        "import configparser\n",
        "import os\n",
        "from emoji import demojize\n",
        "import pandas as pd"
      ]
    },
    {
      "cell_type": "code",
      "source": [
        "pd.set_option('display.max_colwidth', None)"
      ],
      "metadata": {
        "id": "fE5rRWLpFL55"
      },
      "execution_count": 3,
      "outputs": []
    },
    {
      "cell_type": "code",
      "source": [
        "html = urllib.request.urlopen(\"https://www.youtube.com/results?search_query=COVID\")\n",
        "# print(html.read().decode())"
      ],
      "metadata": {
        "id": "_KVl_UdsCfL6"
      },
      "execution_count": 4,
      "outputs": []
    },
    {
      "cell_type": "code",
      "source": [
        "video_ids = re.findall(r\"watch\\?v=(\\S{11})\", html.read().decode())\n",
        "print(video_ids)"
      ],
      "metadata": {
        "colab": {
          "base_uri": "https://localhost:8080/"
        },
        "id": "UZBpHImpC3sc",
        "outputId": "442888e8-e57e-4261-d56e-abb8f290963d"
      },
      "execution_count": 5,
      "outputs": [
        {
          "output_type": "stream",
          "name": "stdout",
          "text": [
            "['ih4xVzLQP24', '4yfPs6pUjQI', 'DqSpzm2jsgw', 'N4vfuuReV5c', 'UdQri8yLXFA', 's_3jKDRnF4c', 'ewFkYdEv2w0', '1z_mBM3OWMM', 'w2KlawRXjGM', 'Ug9xQ7LQnsw', 'DqSpzm2jsgw', 'A-1KmtpvM9M', 'ZL1z3Uju-I0', 'DCdxsnRF1Fk', 'yH526AyO6IM', 'MiqRBaEehIU', '08pHlsFYfBs', 'b7pAc7-vTvo', 'fudTj7i4gJA', 'fudTj7i4gJA', 'fUcAhhqwGVw', 'BSQrskqqIKE', 'T69-aH3s0vw', 'e8FCiP2IXWM', 'k9wRPOeUhls', 'LKT7fGL_Uh0', '5DGwOJXSxqg', 'BtN-goy9VOY', '5LuOJQFGS1s', 'U8r3oTVMtQ0', 'zkVsXOZguLg', '0b_eHBZLM6U', 'PkUlCIFE45M', 'SeQ7CDkr9SY', 'VgBiPyirG-A', '3OXJlRrXmQc', '8KwHceAtQP8', 'RcBk0n1YjQY', 'UdQri8yLXFA', 'l28OXXl35SA', 'hwX5D4PP9jo', 'AqI4eDZFQRA', 'jUDL7VHN5yE', 'BtELl7-zE_w', 'HxDXKB59JFg', 'Ory4ut0SDso', 's7In-KGxduU', 'GOimxFhJ4Pk', 'ZfFe4RngT-w', '1z_mBM3OWMM', 'OF9ddutmfOI', 'GLLYQdyLlyI', 'Ec3FDyYPsms', '-DBR_2BJ0ko', '8wTi2o_pCWQ', 'U0d2zmr0WGo', 'w0Tw73Ovf3M', 'kwPF2GsW8bg', 'L2k46LDp2ac']\n"
          ]
        }
      ]
    },
    {
      "cell_type": "code",
      "source": [
        "len(video_ids)"
      ],
      "metadata": {
        "colab": {
          "base_uri": "https://localhost:8080/"
        },
        "id": "9XLH5JFzEVpd",
        "outputId": "193c781c-d0f9-407e-e45a-28261c4a5d43"
      },
      "execution_count": 6,
      "outputs": [
        {
          "output_type": "execute_result",
          "data": {
            "text/plain": [
              "59"
            ]
          },
          "metadata": {},
          "execution_count": 6
        }
      ]
    },
    {
      "cell_type": "code",
      "source": [
        "config = configparser.ConfigParser()\n",
        "config.read_file(open('YoutubeAPI.cfg'))\n",
        "\n",
        "os.environ[\"Youtube_API_Access_KEY\"]= config['Youtube API']['API_KEY']\n",
        "\n",
        "youtube = build('youtube', 'v3', developerKey = os.environ[\"Youtube_API_Access_KEY\"] )"
      ],
      "metadata": {
        "id": "Gc9G2SV5E2kG"
      },
      "execution_count": 7,
      "outputs": []
    },
    {
      "cell_type": "code",
      "source": [
        "Comment_list = []\n",
        "\n",
        "def extract_comments_eh(V_ID):\n",
        "\n",
        "    request = youtube.commentThreads().list(\n",
        "            part=\"id, snippet, replies\",\n",
        "            order=\"time\",\n",
        "            # order=\"relevance\",\n",
        "            videoId=V_ID,\n",
        "            maxResults = 20\n",
        "        )\n",
        "    \n",
        "    try:\n",
        "        response = request.execute()\n",
        "\n",
        "        for i in range(len(response['items'])):\n",
        "            Comment_list.append(demojize(response['items'][i]['snippet']['topLevelComment']['snippet']['textOriginal']).replace(\"\\n\", \";\").replace(\"-\", \"\").replace(\"      \", \"\"))\n",
        "\n",
        "\n",
        "        while \"nextPageToken\" in response:\n",
        "            nextPage = response['nextPageToken']\n",
        "\n",
        "            request = youtube.commentThreads().list(\n",
        "                part=\"id, snippet, replies\",\n",
        "                order=\"time\",\n",
        "                videoId=V_ID,\n",
        "                pageToken=nextPage,\n",
        "                maxResults = 20\n",
        "            )\n",
        "\n",
        "            response = request.execute()\n",
        "\n",
        "            for i in range(len(response['items'])):\n",
        "                Comment_list.append(demojize(response['items'][i]['snippet']['topLevelComment']['snippet']['textOriginal']).replace(\"\\n\", \";\").replace(\"-\", \"\").replace(\"      \", \"\"))\n",
        "            if \"nextPageToken\" not in response:\n",
        "                break\n",
        "\n",
        "        df = pd.DataFrame(Comment_list, columns=['Youtube Comments'])\n",
        "        df['Video ID'] = V_ID\n",
        "\n",
        "        return(df)\n",
        "\n",
        "    except Exception:\n",
        "        print(\"Video with ID \" + V_ID + \" skipped due to no comments allowed\")"
      ],
      "metadata": {
        "id": "UGz5XWuKWbh5"
      },
      "execution_count": 15,
      "outputs": []
    },
    {
      "cell_type": "code",
      "source": [
        "for i in range(len(video_ids)):\n",
        "    print('This is iteration', i )\n",
        "    globals()[f\"DF_{i}\"] = extract_comments_eh(video_ids[i])"
      ],
      "metadata": {
        "colab": {
          "base_uri": "https://localhost:8080/"
        },
        "id": "9fXlzqT2JtB6",
        "outputId": "6fd69e3c-0777-4df4-84b1-8909c0de0d93"
      },
      "execution_count": 31,
      "outputs": [
        {
          "output_type": "stream",
          "name": "stdout",
          "text": [
            "This is iteration 0\n",
            "This is iteration 1\n",
            "This is iteration 2\n",
            "This is iteration 3\n",
            "This is iteration 4\n",
            "This is iteration 5\n",
            "This is iteration 6\n",
            "This is iteration 7\n",
            "This is iteration 8\n",
            "This is iteration 9\n",
            "This is iteration 10\n",
            "This is iteration 11\n",
            "This is iteration 12\n",
            "This is iteration 13\n",
            "This is iteration 14\n",
            "Video with ID yH526AyO6IM skipped due to no comments allowed\n",
            "This is iteration 15\n",
            "This is iteration 16\n",
            "Video with ID 08pHlsFYfBs skipped due to no comments allowed\n",
            "This is iteration 17\n",
            "This is iteration 18\n",
            "This is iteration 19\n",
            "This is iteration 20\n",
            "This is iteration 21\n",
            "This is iteration 22\n",
            "This is iteration 23\n",
            "This is iteration 24\n",
            "This is iteration 25\n",
            "This is iteration 26\n",
            "This is iteration 27\n",
            "This is iteration 28\n",
            "Video with ID 5LuOJQFGS1s skipped due to no comments allowed\n",
            "This is iteration 29\n",
            "Video with ID U8r3oTVMtQ0 skipped due to no comments allowed\n",
            "This is iteration 30\n",
            "Video with ID zkVsXOZguLg skipped due to no comments allowed\n",
            "This is iteration 31\n",
            "Video with ID 0b_eHBZLM6U skipped due to no comments allowed\n",
            "This is iteration 32\n",
            "Video with ID PkUlCIFE45M skipped due to no comments allowed\n",
            "This is iteration 33\n",
            "Video with ID SeQ7CDkr9SY skipped due to no comments allowed\n",
            "This is iteration 34\n",
            "Video with ID VgBiPyirG-A skipped due to no comments allowed\n",
            "This is iteration 35\n",
            "Video with ID 3OXJlRrXmQc skipped due to no comments allowed\n",
            "This is iteration 36\n",
            "Video with ID 8KwHceAtQP8 skipped due to no comments allowed\n",
            "This is iteration 37\n",
            "Video with ID RcBk0n1YjQY skipped due to no comments allowed\n",
            "This is iteration 38\n",
            "Video with ID UdQri8yLXFA skipped due to no comments allowed\n",
            "This is iteration 39\n",
            "Video with ID l28OXXl35SA skipped due to no comments allowed\n",
            "This is iteration 40\n",
            "Video with ID hwX5D4PP9jo skipped due to no comments allowed\n",
            "This is iteration 41\n",
            "Video with ID AqI4eDZFQRA skipped due to no comments allowed\n",
            "This is iteration 42\n",
            "Video with ID jUDL7VHN5yE skipped due to no comments allowed\n",
            "This is iteration 43\n",
            "Video with ID BtELl7-zE_w skipped due to no comments allowed\n",
            "This is iteration 44\n",
            "This is iteration 45\n",
            "Video with ID Ory4ut0SDso skipped due to no comments allowed\n",
            "This is iteration 46\n",
            "Video with ID s7In-KGxduU skipped due to no comments allowed\n",
            "This is iteration 47\n",
            "Video with ID GOimxFhJ4Pk skipped due to no comments allowed\n",
            "This is iteration 48\n",
            "This is iteration 49\n",
            "Video with ID 1z_mBM3OWMM skipped due to no comments allowed\n",
            "This is iteration 50\n",
            "Video with ID OF9ddutmfOI skipped due to no comments allowed\n",
            "This is iteration 51\n",
            "Video with ID GLLYQdyLlyI skipped due to no comments allowed\n",
            "This is iteration 52\n",
            "Video with ID Ec3FDyYPsms skipped due to no comments allowed\n",
            "This is iteration 53\n",
            "Video with ID -DBR_2BJ0ko skipped due to no comments allowed\n",
            "This is iteration 54\n",
            "Video with ID 8wTi2o_pCWQ skipped due to no comments allowed\n",
            "This is iteration 55\n",
            "Video with ID U0d2zmr0WGo skipped due to no comments allowed\n",
            "This is iteration 56\n",
            "Video with ID w0Tw73Ovf3M skipped due to no comments allowed\n",
            "This is iteration 57\n",
            "Video with ID kwPF2GsW8bg skipped due to no comments allowed\n",
            "This is iteration 58\n",
            "Video with ID L2k46LDp2ac skipped due to no comments allowed\n"
          ]
        }
      ]
    },
    {
      "cell_type": "code",
      "source": [
        "frames = [DF_0,\tDF_1,\tDF_2,\tDF_3,\tDF_4,\tDF_5,\tDF_6,\tDF_7,\tDF_8,\tDF_9,\tDF_10, DF_11,\tDF_12, DF_13, DF_15, DF_17,\tDF_18, DF_19,\\\n",
        "          DF_20, DF_21,\tDF_22, DF_23,\tDF_24, DF_25,\tDF_26, DF_27,\tDF_28, DF_44, DF_48 ]\n",
        "\n",
        "result = pd.concat(frames)"
      ],
      "metadata": {
        "id": "6_XoFicCjmPA"
      },
      "execution_count": 32,
      "outputs": []
    },
    {
      "cell_type": "code",
      "source": [
        "result.count()"
      ],
      "metadata": {
        "colab": {
          "base_uri": "https://localhost:8080/"
        },
        "id": "KC5uxe3GMBp6",
        "outputId": "b2fad08a-be82-424a-dc78-afca33b1eb49"
      },
      "execution_count": 33,
      "outputs": [
        {
          "output_type": "execute_result",
          "data": {
            "text/plain": [
              "Youtube Comments    355147\n",
              "Video ID            355147\n",
              "dtype: int64"
            ]
          },
          "metadata": {},
          "execution_count": 33
        }
      ]
    },
    {
      "cell_type": "code",
      "source": [
        "result[1000:1005]"
      ],
      "metadata": {
        "colab": {
          "base_uri": "https://localhost:8080/",
          "height": 221
        },
        "id": "1JSpNlskPOZp",
        "outputId": "15581b4b-51c0-44de-b96f-68814ccdf63e"
      },
      "execution_count": 34,
      "outputs": [
        {
          "output_type": "execute_result",
          "data": {
            "text/html": [
              "<div>\n",
              "<style scoped>\n",
              "    .dataframe tbody tr th:only-of-type {\n",
              "        vertical-align: middle;\n",
              "    }\n",
              "\n",
              "    .dataframe tbody tr th {\n",
              "        vertical-align: top;\n",
              "    }\n",
              "\n",
              "    .dataframe thead th {\n",
              "        text-align: right;\n",
              "    }\n",
              "</style>\n",
              "<table border=\"1\" class=\"dataframe\">\n",
              "  <thead>\n",
              "    <tr style=\"text-align: right;\">\n",
              "      <th></th>\n",
              "      <th>Youtube Comments</th>\n",
              "      <th>Video ID</th>\n",
              "    </tr>\n",
              "  </thead>\n",
              "  <tbody>\n",
              "    <tr>\n",
              "      <th>1000</th>\n",
              "      <td>Because the government is only interested in controlling the people. And if the government demanded a working vaccine. Then their power and control would fade as the virus does. Control not health is what democrats want.</td>\n",
              "      <td>ih4xVzLQP24</td>\n",
              "    </tr>\n",
              "    <tr>\n",
              "      <th>1001</th>\n",
              "      <td>14 of my family members (all fully vaccinated) got covid from our thanksgiving</td>\n",
              "      <td>ih4xVzLQP24</td>\n",
              "    </tr>\n",
              "    <tr>\n",
              "      <th>1002</th>\n",
              "      <td>Because it’s NOT a vaccine</td>\n",
              "      <td>ih4xVzLQP24</td>\n",
              "    </tr>\n",
              "    <tr>\n",
              "      <th>1003</th>\n",
              "      <td>So the point of pushing the vaccine isssss? What? Make it make sense …. It doesn’t protect from Covid so what is the agenda here?</td>\n",
              "      <td>ih4xVzLQP24</td>\n",
              "    </tr>\n",
              "    <tr>\n",
              "      <th>1004</th>\n",
              "      <td>Cuz vaccines don't work....they never did and never will.....</td>\n",
              "      <td>ih4xVzLQP24</td>\n",
              "    </tr>\n",
              "  </tbody>\n",
              "</table>\n",
              "</div>"
            ],
            "text/plain": [
              "                                                                                                                                                                                                                  Youtube Comments     Video ID\n",
              "1000  Because the government is only interested in controlling the people. And if the government demanded a working vaccine. Then their power and control would fade as the virus does. Control not health is what democrats want.  ih4xVzLQP24\n",
              "1001                                                                                                                                                14 of my family members (all fully vaccinated) got covid from our thanksgiving  ih4xVzLQP24\n",
              "1002                                                                                                                                                                                                    Because it’s NOT a vaccine  ih4xVzLQP24\n",
              "1003                                                                                             So the point of pushing the vaccine isssss? What? Make it make sense …. It doesn’t protect from Covid so what is the agenda here?  ih4xVzLQP24\n",
              "1004                                                                                                                                                                 Cuz vaccines don't work....they never did and never will.....  ih4xVzLQP24"
            ]
          },
          "metadata": {},
          "execution_count": 34
        }
      ]
    },
    {
      "cell_type": "code",
      "source": [
        "result[10000:10005]"
      ],
      "metadata": {
        "colab": {
          "base_uri": "https://localhost:8080/",
          "height": 204
        },
        "id": "JXP0TjPHPOcR",
        "outputId": "c2bb55ee-5b3d-42bd-eac8-9efcf0b6f65e"
      },
      "execution_count": 35,
      "outputs": [
        {
          "output_type": "execute_result",
          "data": {
            "text/html": [
              "<div>\n",
              "<style scoped>\n",
              "    .dataframe tbody tr th:only-of-type {\n",
              "        vertical-align: middle;\n",
              "    }\n",
              "\n",
              "    .dataframe tbody tr th {\n",
              "        vertical-align: top;\n",
              "    }\n",
              "\n",
              "    .dataframe thead th {\n",
              "        text-align: right;\n",
              "    }\n",
              "</style>\n",
              "<table border=\"1\" class=\"dataframe\">\n",
              "  <thead>\n",
              "    <tr style=\"text-align: right;\">\n",
              "      <th></th>\n",
              "      <th>Youtube Comments</th>\n",
              "      <th>Video ID</th>\n",
              "    </tr>\n",
              "  </thead>\n",
              "  <tbody>\n",
              "    <tr>\n",
              "      <th>2800</th>\n",
              "      <td>To all my unvaxxed brethren out there: HOLD THE LINE!</td>\n",
              "      <td>UdQri8yLXFA</td>\n",
              "    </tr>\n",
              "    <tr>\n",
              "      <th>2801</th>\n",
              "      <td>Because it’s not a vaccine.</td>\n",
              "      <td>UdQri8yLXFA</td>\n",
              "    </tr>\n",
              "    <tr>\n",
              "      <th>2802</th>\n",
              "      <td>Because they were so dumb they actually believed in this fake vax</td>\n",
              "      <td>UdQri8yLXFA</td>\n",
              "    </tr>\n",
              "    <tr>\n",
              "      <th>2803</th>\n",
              "      <td>Less common than you think that they are but more common than we thought it would be. Wait flu shot to battle wuflu?? Isn't that medical misinformation?</td>\n",
              "      <td>UdQri8yLXFA</td>\n",
              "    </tr>\n",
              "    <tr>\n",
              "      <th>2804</th>\n",
              "      <td>I'm fully vaccinated  and have covid right now. Fkn sucks! Took vaccine for nothing!</td>\n",
              "      <td>UdQri8yLXFA</td>\n",
              "    </tr>\n",
              "  </tbody>\n",
              "</table>\n",
              "</div>"
            ],
            "text/plain": [
              "                                                                                                                                              Youtube Comments     Video ID\n",
              "2800                                                                                                     To all my unvaxxed brethren out there: HOLD THE LINE!  UdQri8yLXFA\n",
              "2801                                                                                                                               Because it’s not a vaccine.  UdQri8yLXFA\n",
              "2802                                                                                         Because they were so dumb they actually believed in this fake vax  UdQri8yLXFA\n",
              "2803  Less common than you think that they are but more common than we thought it would be. Wait flu shot to battle wuflu?? Isn't that medical misinformation?  UdQri8yLXFA\n",
              "2804                                                                      I'm fully vaccinated  and have covid right now. Fkn sucks! Took vaccine for nothing!  UdQri8yLXFA"
            ]
          },
          "metadata": {},
          "execution_count": 35
        }
      ]
    },
    {
      "cell_type": "code",
      "source": [
        "result.to_csv('Youtube_Comments_Combined_16Dec_All' + '.csv', encoding = 'utf-8', index=False)"
      ],
      "metadata": {
        "id": "7Yi_bTpxPOem"
      },
      "execution_count": 36,
      "outputs": []
    },
    {
      "cell_type": "code",
      "source": [
        ""
      ],
      "metadata": {
        "id": "jkhpPHMYP__7"
      },
      "execution_count": null,
      "outputs": []
    },
    {
      "cell_type": "code",
      "source": [
        ""
      ],
      "metadata": {
        "id": "jliVV9PFQAEB"
      },
      "execution_count": null,
      "outputs": []
    },
    {
      "cell_type": "code",
      "source": [
        ""
      ],
      "metadata": {
        "id": "rrcQBw_9QAF2"
      },
      "execution_count": null,
      "outputs": []
    }
  ]
}